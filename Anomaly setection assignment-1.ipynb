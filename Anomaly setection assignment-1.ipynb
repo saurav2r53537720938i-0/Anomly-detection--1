{
 "cells": [
  {
   "cell_type": "markdown",
   "id": "96ae3f77-766a-4dd2-8591-f0338dfa04be",
   "metadata": {},
   "source": [
    "Anomaly detection is a technique used to identify patterns in data that do not conform to expecteed behvaiour its purpose is to flag unsual or suspicious events or observation that deviate signfictantly from the norm helping to detects error fraud or such as finance cybersecurity and healrhcare"
   ]
  },
  {
   "cell_type": "markdown",
   "id": "74d30dde-0573-43a6-91e4-128aca0c357d",
   "metadata": {},
   "source": [
    "One of the key challenge in abnormally detection is distinguish betweem true anomalies and normal variations or noise in the data.This require robust algorthims that can accurately identify abnormalties while minimizing false postives and false negative addtionaly dealing with imblanced datasets where anomalies are rare compared to normal data can pose a challenge"
   ]
  },
  {
   "cell_type": "markdown",
   "id": "34ab794b-4d4a-4a8f-a772-fabbbfd6443a",
   "metadata": {},
   "source": [
    "Unsupervised anomaly detection involves identifing anomalies in a datsets without using labelled example of anomalies it relies solely on the structure of the data detects outliers or unsual patterns in contrast supervised anomly detection require labelled examples supervised method to learn diffrence betweeen normal and anomalus instances accordingly unsupervised mehods are typically required more labelled data but potentially acheive higher accuracy"
   ]
  },
  {
   "cell_type": "markdown",
   "id": "4012e39c-69d1-49a7-b4d2-37b9a86117b8",
   "metadata": {},
   "source": [
    "The main categories of anomly detection algorthims include:\n",
    "1. Statistacal Method\n",
    "2. Machine Learning-based\n",
    "3. Proximity-Based methods\n",
    "4. Time series Methods\n",
    "5. Ensembles Methods\n",
    "Each category has its strength and weakness and the choice of algorthims depends on factor sucha as natuere of the data the avablity of labeled examples"
   ]
  },
  {
   "cell_type": "markdown",
   "id": "98ea06a5-349d-4312-ac1a-4e4890e8b5e6",
   "metadata": {},
   "source": [
    "The distance speed abnormality detection method primilary focused on identifing anomalies based on devation from expected patterns in distance and speed measurment some main exception or case where this method might not perform well  include:\n",
    "1. Irregular data patterns\n",
    "2. outliers in other Feature\n",
    "3. Limited Context\n",
    "4. Data quality issues\n",
    "5. Dynamic Enviroments "
   ]
  },
  {
   "cell_type": "markdown",
   "id": "3df8e321-1394-4469-b9f2-88e04edd1aa9",
   "metadata": {},
   "source": [
    "The LOF algorthim compute anomly scores based on the local density devation of a data point compared to its neigbour here how its work:\n",
    "1. Local density calculation\n",
    "2. Reachablity distance\n",
    "3. Local Reacbality deensity\n",
    "4. Local outlier factor\n",
    "In summary the LOF algorthim evluates anomalies based on the reachbality distance considering and their densities to identify "
   ]
  },
  {
   "cell_type": "code",
   "execution_count": null,
   "id": "ffede4ed-4711-482d-9410-dbe11db927b0",
   "metadata": {},
   "outputs": [],
   "source": []
  }
 ],
 "metadata": {
  "kernelspec": {
   "display_name": "Python 3 (ipykernel)",
   "language": "python",
   "name": "python3"
  },
  "language_info": {
   "codemirror_mode": {
    "name": "ipython",
    "version": 3
   },
   "file_extension": ".py",
   "mimetype": "text/x-python",
   "name": "python",
   "nbconvert_exporter": "python",
   "pygments_lexer": "ipython3",
   "version": "3.10.8"
  }
 },
 "nbformat": 4,
 "nbformat_minor": 5
}
